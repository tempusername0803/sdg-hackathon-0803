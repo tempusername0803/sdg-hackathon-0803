{
  "nbformat": 4,
  "nbformat_minor": 0,
  "metadata": {
    "colab": {
      "provenance": []
    },
    "kernelspec": {
      "name": "python3",
      "display_name": "Python 3"
    },
    "language_info": {
      "name": "python"
    }
  },
  "cells": [
    {
      "cell_type": "code",
      "source": [
        "import numpy as np\n",
        "import pandas as pd\n",
        "import seaborn as sns\n",
        "import matplotlib.pyplot as plt\n",
        "from sklearn.model_selection import train_test_split\n",
        "from sklearn.preprocessing import StandardScaler\n",
        "from sklearn.neighbors import KNeighborsClassifier\n",
        "from sklearn.metrics import confusion_matrix\n",
        "from sklearn.metrics import accuracy_score\n",
        "from sklearn.metrics import classification_report, roc_curve, auc\n",
        "from sklearn.linear_model import LinearRegression\n",
        "from sklearn.preprocessing import LabelEncoder\n",
        "from sklearn.metrics import mean_squared_error,r2_score\n",
        "from sklearn.model_selection import train_test_split"
      ],
      "metadata": {
        "id": "G4e5gzPzdGp6"
      },
      "execution_count": 2,
      "outputs": []
    },
    {
      "cell_type": "code",
      "source": [
        "import pandas as pd \n",
        "import numpy as np\n",
        "import seaborn as sns\n",
        "import matplotlib.pyplot as plt\n",
        "import sklearn\n",
        "from sklearn.linear_model import LinearRegression\n",
        "from sklearn.preprocessing import LabelEncoder\n",
        "from sklearn.metrics import mean_squared_error,r2_score\n",
        "from sklearn.model_selection import train_test_split"
      ],
      "metadata": {
        "id": "l0fWsnwnUa3G"
      },
      "execution_count": 16,
      "outputs": []
    },
    {
      "cell_type": "code",
      "execution_count": 3,
      "metadata": {
        "colab": {
          "base_uri": "https://localhost:8080/",
          "height": 441
        },
        "id": "L1pGDq7bcGud",
        "outputId": "fa45ef8f-0123-4ab7-800a-201661f2bb98"
      },
      "outputs": [
        {
          "output_type": "stream",
          "name": "stdout",
          "text": [
            "Mounted at /content/drive\n"
          ]
        },
        {
          "output_type": "execute_result",
          "data": {
            "text/plain": [
              "     Unnamed: 0     biking    smoking  heart.disease\n",
              "0             1  30.801246  10.896608      11.769423\n",
              "1             2  65.129215   2.219563       2.854081\n",
              "2             3   1.959665  17.588331      17.177803\n",
              "3             4  44.800196   2.802559       6.816647\n",
              "4             5  69.428454  15.974505       4.062224\n",
              "..          ...        ...        ...            ...\n",
              "493         494  47.660440  27.562464      11.294392\n",
              "494         495  45.097203  21.385620       9.616762\n",
              "495         496   8.279743   6.423720      13.495168\n",
              "496         497  42.345863  20.741328      10.115865\n",
              "497         498  30.774254  23.610175      11.843556\n",
              "\n",
              "[498 rows x 4 columns]"
            ],
            "text/html": [
              "\n",
              "  <div id=\"df-3d2e4335-4a5a-4ec3-804e-837b15748a64\">\n",
              "    <div class=\"colab-df-container\">\n",
              "      <div>\n",
              "<style scoped>\n",
              "    .dataframe tbody tr th:only-of-type {\n",
              "        vertical-align: middle;\n",
              "    }\n",
              "\n",
              "    .dataframe tbody tr th {\n",
              "        vertical-align: top;\n",
              "    }\n",
              "\n",
              "    .dataframe thead th {\n",
              "        text-align: right;\n",
              "    }\n",
              "</style>\n",
              "<table border=\"1\" class=\"dataframe\">\n",
              "  <thead>\n",
              "    <tr style=\"text-align: right;\">\n",
              "      <th></th>\n",
              "      <th>Unnamed: 0</th>\n",
              "      <th>biking</th>\n",
              "      <th>smoking</th>\n",
              "      <th>heart.disease</th>\n",
              "    </tr>\n",
              "  </thead>\n",
              "  <tbody>\n",
              "    <tr>\n",
              "      <th>0</th>\n",
              "      <td>1</td>\n",
              "      <td>30.801246</td>\n",
              "      <td>10.896608</td>\n",
              "      <td>11.769423</td>\n",
              "    </tr>\n",
              "    <tr>\n",
              "      <th>1</th>\n",
              "      <td>2</td>\n",
              "      <td>65.129215</td>\n",
              "      <td>2.219563</td>\n",
              "      <td>2.854081</td>\n",
              "    </tr>\n",
              "    <tr>\n",
              "      <th>2</th>\n",
              "      <td>3</td>\n",
              "      <td>1.959665</td>\n",
              "      <td>17.588331</td>\n",
              "      <td>17.177803</td>\n",
              "    </tr>\n",
              "    <tr>\n",
              "      <th>3</th>\n",
              "      <td>4</td>\n",
              "      <td>44.800196</td>\n",
              "      <td>2.802559</td>\n",
              "      <td>6.816647</td>\n",
              "    </tr>\n",
              "    <tr>\n",
              "      <th>4</th>\n",
              "      <td>5</td>\n",
              "      <td>69.428454</td>\n",
              "      <td>15.974505</td>\n",
              "      <td>4.062224</td>\n",
              "    </tr>\n",
              "    <tr>\n",
              "      <th>...</th>\n",
              "      <td>...</td>\n",
              "      <td>...</td>\n",
              "      <td>...</td>\n",
              "      <td>...</td>\n",
              "    </tr>\n",
              "    <tr>\n",
              "      <th>493</th>\n",
              "      <td>494</td>\n",
              "      <td>47.660440</td>\n",
              "      <td>27.562464</td>\n",
              "      <td>11.294392</td>\n",
              "    </tr>\n",
              "    <tr>\n",
              "      <th>494</th>\n",
              "      <td>495</td>\n",
              "      <td>45.097203</td>\n",
              "      <td>21.385620</td>\n",
              "      <td>9.616762</td>\n",
              "    </tr>\n",
              "    <tr>\n",
              "      <th>495</th>\n",
              "      <td>496</td>\n",
              "      <td>8.279743</td>\n",
              "      <td>6.423720</td>\n",
              "      <td>13.495168</td>\n",
              "    </tr>\n",
              "    <tr>\n",
              "      <th>496</th>\n",
              "      <td>497</td>\n",
              "      <td>42.345863</td>\n",
              "      <td>20.741328</td>\n",
              "      <td>10.115865</td>\n",
              "    </tr>\n",
              "    <tr>\n",
              "      <th>497</th>\n",
              "      <td>498</td>\n",
              "      <td>30.774254</td>\n",
              "      <td>23.610175</td>\n",
              "      <td>11.843556</td>\n",
              "    </tr>\n",
              "  </tbody>\n",
              "</table>\n",
              "<p>498 rows × 4 columns</p>\n",
              "</div>\n",
              "      <button class=\"colab-df-convert\" onclick=\"convertToInteractive('df-3d2e4335-4a5a-4ec3-804e-837b15748a64')\"\n",
              "              title=\"Convert this dataframe to an interactive table.\"\n",
              "              style=\"display:none;\">\n",
              "        \n",
              "  <svg xmlns=\"http://www.w3.org/2000/svg\" height=\"24px\"viewBox=\"0 0 24 24\"\n",
              "       width=\"24px\">\n",
              "    <path d=\"M0 0h24v24H0V0z\" fill=\"none\"/>\n",
              "    <path d=\"M18.56 5.44l.94 2.06.94-2.06 2.06-.94-2.06-.94-.94-2.06-.94 2.06-2.06.94zm-11 1L8.5 8.5l.94-2.06 2.06-.94-2.06-.94L8.5 2.5l-.94 2.06-2.06.94zm10 10l.94 2.06.94-2.06 2.06-.94-2.06-.94-.94-2.06-.94 2.06-2.06.94z\"/><path d=\"M17.41 7.96l-1.37-1.37c-.4-.4-.92-.59-1.43-.59-.52 0-1.04.2-1.43.59L10.3 9.45l-7.72 7.72c-.78.78-.78 2.05 0 2.83L4 21.41c.39.39.9.59 1.41.59.51 0 1.02-.2 1.41-.59l7.78-7.78 2.81-2.81c.8-.78.8-2.07 0-2.86zM5.41 20L4 18.59l7.72-7.72 1.47 1.35L5.41 20z\"/>\n",
              "  </svg>\n",
              "      </button>\n",
              "      \n",
              "  <style>\n",
              "    .colab-df-container {\n",
              "      display:flex;\n",
              "      flex-wrap:wrap;\n",
              "      gap: 12px;\n",
              "    }\n",
              "\n",
              "    .colab-df-convert {\n",
              "      background-color: #E8F0FE;\n",
              "      border: none;\n",
              "      border-radius: 50%;\n",
              "      cursor: pointer;\n",
              "      display: none;\n",
              "      fill: #1967D2;\n",
              "      height: 32px;\n",
              "      padding: 0 0 0 0;\n",
              "      width: 32px;\n",
              "    }\n",
              "\n",
              "    .colab-df-convert:hover {\n",
              "      background-color: #E2EBFA;\n",
              "      box-shadow: 0px 1px 2px rgba(60, 64, 67, 0.3), 0px 1px 3px 1px rgba(60, 64, 67, 0.15);\n",
              "      fill: #174EA6;\n",
              "    }\n",
              "\n",
              "    [theme=dark] .colab-df-convert {\n",
              "      background-color: #3B4455;\n",
              "      fill: #D2E3FC;\n",
              "    }\n",
              "\n",
              "    [theme=dark] .colab-df-convert:hover {\n",
              "      background-color: #434B5C;\n",
              "      box-shadow: 0px 1px 3px 1px rgba(0, 0, 0, 0.15);\n",
              "      filter: drop-shadow(0px 1px 2px rgba(0, 0, 0, 0.3));\n",
              "      fill: #FFFFFF;\n",
              "    }\n",
              "  </style>\n",
              "\n",
              "      <script>\n",
              "        const buttonEl =\n",
              "          document.querySelector('#df-3d2e4335-4a5a-4ec3-804e-837b15748a64 button.colab-df-convert');\n",
              "        buttonEl.style.display =\n",
              "          google.colab.kernel.accessAllowed ? 'block' : 'none';\n",
              "\n",
              "        async function convertToInteractive(key) {\n",
              "          const element = document.querySelector('#df-3d2e4335-4a5a-4ec3-804e-837b15748a64');\n",
              "          const dataTable =\n",
              "            await google.colab.kernel.invokeFunction('convertToInteractive',\n",
              "                                                     [key], {});\n",
              "          if (!dataTable) return;\n",
              "\n",
              "          const docLinkHtml = 'Like what you see? Visit the ' +\n",
              "            '<a target=\"_blank\" href=https://colab.research.google.com/notebooks/data_table.ipynb>data table notebook</a>'\n",
              "            + ' to learn more about interactive tables.';\n",
              "          element.innerHTML = '';\n",
              "          dataTable['output_type'] = 'display_data';\n",
              "          await google.colab.output.renderOutput(dataTable, element);\n",
              "          const docLink = document.createElement('div');\n",
              "          docLink.innerHTML = docLinkHtml;\n",
              "          element.appendChild(docLink);\n",
              "        }\n",
              "      </script>\n",
              "    </div>\n",
              "  </div>\n",
              "  "
            ]
          },
          "metadata": {},
          "execution_count": 3
        }
      ],
      "source": [
        "from google.colab import drive\n",
        "drive.mount('/content/drive', force_remount = True)\n",
        "path = \"/content/drive/MyDrive/SDG Hackathon/heart.data.csv\"\n",
        "df = pd.read_csv(path)\n",
        "df"
      ]
    },
    {
      "cell_type": "code",
      "source": [
        "x = df.iloc[:,:-1]\n",
        "y = df.iloc[:,-1]\n",
        "x_train, x_test, y_train, y_test = train_test_split(x, y, test_size = 0.25, random_state=1)\n",
        "reg = LinearRegression()\n",
        "model = reg.fit(x_train,y_train)"
      ],
      "metadata": {
        "id": "5SabVpHJdfh3"
      },
      "execution_count": 4,
      "outputs": []
    },
    {
      "cell_type": "code",
      "source": [
        "df['smoking']=x['smoking']\n",
        "df['heart.disease'] = y"
      ],
      "metadata": {
        "id": "Vl2F_jmme1ZN"
      },
      "execution_count": 5,
      "outputs": []
    },
    {
      "cell_type": "code",
      "source": [
        "sns.regplot(y='heart.disease',x='smoking',data=df,color='purple')\n"
      ],
      "metadata": {
        "colab": {
          "base_uri": "https://localhost:8080/",
          "height": 296
        },
        "id": "PPHEsfdlhEm0",
        "outputId": "d40a254a-a718-4d9f-e326-17b3abebbe2e"
      },
      "execution_count": 6,
      "outputs": [
        {
          "output_type": "execute_result",
          "data": {
            "text/plain": [
              "<AxesSubplot:xlabel='smoking', ylabel='heart.disease'>"
            ]
          },
          "metadata": {},
          "execution_count": 6
        },
        {
          "output_type": "display_data",
          "data": {
            "text/plain": [
              "<Figure size 432x288 with 1 Axes>"
            ],
            "image/png": "[encoded data removed]"
          },
          "metadata": {
            "needs_background": "light"
          }
        }
      ]
    },
    {
      "cell_type": "code",
      "source": [
        "y_pred = model.predict(x_test)\n",
        "y_pred"
      ],
      "metadata": {
        "colab": {
          "base_uri": "https://localhost:8080/"
        },
        "id": "T4Ns-7EvjuP7",
        "outputId": "46f1ced0-7fec-4d84-983a-a304cd2cedd6"
      },
      "execution_count": 10,
      "outputs": [
        {
          "output_type": "execute_result",
          "data": {
            "text/plain": [
              "array([14.59525533,  9.50107869,  2.91690842, 16.14420846, 10.82080226,\n",
              "        3.53781526,  4.05962064, 17.02708038,  8.77180273,  6.73792358,\n",
              "       15.86781769, 18.3195129 ,  9.49785995, 15.5555495 , 10.15591984,\n",
              "        9.57355185,  7.43837448, 12.48610912,  7.84318892,  9.92878655,\n",
              "       15.00363713,  3.33946164, 17.83146897, 18.22062236, 10.45242147,\n",
              "       11.33502424, 12.90193396,  2.36581665, 18.57663345, 13.02007587,\n",
              "       12.97344135, 13.4360996 ,  1.69726471,  4.56270114,  6.94308823,\n",
              "       18.55754296,  4.11432505, 14.99100433, 11.97370779,  9.0696837 ,\n",
              "       18.99562208,  9.3976292 , 14.37347166, 15.48710756, 17.39359831,\n",
              "       18.30589718, 13.95122621, 15.72850079,  4.58038828, 14.05645978,\n",
              "        8.6951231 ,  9.47851649,  9.77417606, 16.16879347,  1.39472758,\n",
              "       13.24501777,  9.3913471 ,  9.36218004,  9.94299249,  4.53819308,\n",
              "       13.8267916 ,  7.03137722, 12.24654845,  2.88956976, 11.00555345,\n",
              "       15.82347071, 15.29273675, 19.64688164,  8.92131806, 11.27594083,\n",
              "        7.9670917 ,  9.59218799, 11.12246607, 12.95106515, 13.17106367,\n",
              "       14.80988221,  6.59873539, 10.27407383, 19.82246534,  6.72854769,\n",
              "        6.78652906, 14.60086699,  6.79753446,  8.03143694, 12.46101046,\n",
              "       13.2397471 ,  7.26669934, 18.7422766 ,  5.74102573, 13.87525793,\n",
              "       10.46304368,  9.73695523,  6.94464809, 13.22967446,  9.01111276,\n",
              "        6.36928576,  9.18970289,  5.85279659, 11.58128596, 18.18196286,\n",
              "       13.13188194,  6.96053095,  5.94724522, 12.88105458,  6.63430598,\n",
              "        3.96720512, 12.64244522,  2.85649883,  7.45473947, 12.08386119,\n",
              "        8.93077894, 12.55022816, 16.34245916, 10.19398629,  5.72020319,\n",
              "        3.70646515,  9.4408978 , 12.75145712, 15.38096595, 11.02784563,\n",
              "       11.9190406 ,  3.99635119, 13.94648216,  8.65663201,  7.38698216])"
            ]
          },
          "metadata": {},
          "execution_count": 10
        }
      ]
    },
    {
      "cell_type": "code",
      "source": [
        "conf_matrix = confusion_matrix(y_test, y_pred)\n",
        "accuracy = accuracy_score(y_test, y_train)\n",
        "report = classification_report(y_test, y_train)"
      ],
      "metadata": {
        "id": "cRzMEDEHjXCF"
      },
      "execution_count": null,
      "outputs": []
    }
  ]
}